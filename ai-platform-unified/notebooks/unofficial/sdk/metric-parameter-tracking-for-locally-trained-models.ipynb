{
  "nbformat": 4,
  "nbformat_minor": 0,
  "metadata": {
    "language_info": {
      "codemirror_mode": {
        "name": "ipython",
        "version": 3
      },
      "file_extension": ".py",
      "mimetype": "text/x-python",
      "name": "python",
      "nbconvert_exporter": "python",
      "pygments_lexer": "ipython3",
      "version": "3.7.7-final"
    },
    "orig_nbformat": 2,
    "kernelspec": {
      "name": "python3",
      "display_name": "Python 3.7.7 64-bit ('venv')",
      "metadata": {
        "interpreter": {
          "hash": "d079569ca84252866d5d1a0bb8259f4fceb05e3976e3d53cbeeb02ca257578df"
        }
      }
    },
    "colab": {
      "name": "AI_Platform_(Unified)_MB_SDK_Metric/Parameter_tracking for locally trained models.ipynb",
      "provenance": [],
      "collapsed_sections": [],
      "toc_visible": true
    }
  },
  "cells": [
    {
      "cell_type": "code",
      "metadata": {
        "id": "Snm88Z0sROQB"
      },
      "source": [
        "# Copyright 2021 Google LLC\n",
        "#\n",
        "# Licensed under the Apache License, Version 2.0 (the \"License\");\n",
        "# you may not use this file except in compliance with the License.\n",
        "# You may obtain a copy of the License at\n",
        "#\n",
        "#     https://www.apache.org/licenses/LICENSE-2.0\n",
        "#\n",
        "# Unless required by applicable law or agreed to in writing, software\n",
        "# distributed under the License is distributed on an \"AS IS\" BASIS,\n",
        "# WITHOUT WARRANTIES OR CONDITIONS OF ANY KIND, either express or implied.\n",
        "# See the License for the specific language governing permissions and\n",
        "# limitations under the License."
      ],
      "execution_count": null,
      "outputs": []
    },
    {
      "cell_type": "markdown",
      "metadata": {
        "id": "ThTHoy7DRSye"
      },
      "source": [
        "## Feedback or issues?\n",
        "\n",
        "Let us know if you have any [feedback or questions](https://forms.gle/hXDnv1T4WanMwTi79). If you provide an email address, we will follow up with you."
      ]
    },
    {
      "cell_type": "markdown",
      "metadata": {
        "id": "acg-u47CJ7-T"
      },
      "source": [
        "# Tracking training parameters and metrics for locally trained models\n",
        "\n",
        "To use this Jupyter notebook, copy the notebook to an AI Platform (Unified) Notebooks instance with Tensorflow installed and open it. You can run each step, or cell, and see its results. To run a cell, press Shift+Enter. The notebook automatically displays the return value of the last line in each cell. For more information about running notebooks in AI Platform(Unified) Notebook, see the [AI Platform (Unified) Notebooks guide](https://cloud.google.com/ai-platform-unified/docs/general/notebooks).\n",
        "\n",
        "\n",
        "This notebook demonstrates how to track metrics and parameters for ML training jobs, and how to analyze this metadata.\n",
        "\n",
        "\n",
        "\n",
        "Note: You may incur charges for training, prediction, storage, or usage of other GCP products in connection with testing this SDK."
      ]
    },
    {
      "cell_type": "markdown",
      "metadata": {
        "id": "Xuny18aMcWDb"
      },
      "source": [
        "## Concepts\n",
        "\n",
        "To better understanding how parameters and metrics are stored and organized, we'd like to introduce the following concepts:\n"
      ]
    },
    {
      "cell_type": "markdown",
      "metadata": {
        "id": "NThDci5bp0Uw"
      },
      "source": [
        "### Experiment\n",
        "Experiments describe a context that groups your runs and the artifacts you create into a logical session. For example, in this notebook you create an Experiment and log data to that experiment."
      ]
    },
    {
      "cell_type": "markdown",
      "metadata": {
        "id": "SAyRR3Ydp4X5"
      },
      "source": [
        "### Run\n",
        "A run represents a single path/avenue that you executed while performing an experiment. A run includes artifacts that you used as inputs or outputs, and parameters that you used in this execution. An Experiment can contain multiple runs. "
      ]
    },
    {
      "cell_type": "markdown",
      "metadata": {
        "id": "-VL5avdUJ7-V"
      },
      "source": [
        "## Install the Model Builder SDK\n",
        "\n",
        "Run the following commands to install the Model Builder SDK.\n",
        "\n",
        "After the SDK is installed, the kernel is restarted."
      ]
    },
    {
      "cell_type": "code",
      "metadata": {
        "id": "5-6l0OdRJ7-V"
      },
      "source": [
        "%%capture\n",
        "!pip3 uninstall -y google-cloud-aiplatform\n",
        "!pip3 install --user git+https://github.com/googleapis/python-aiplatform.git@dev-test\n",
        "import IPython\n",
        "app = IPython.Application.instance()\n",
        "app.kernel.do_shutdown(True)"
      ],
      "execution_count": null,
      "outputs": []
    },
    {
      "cell_type": "markdown",
      "metadata": {
        "id": "amZxHeNzRhgN"
      },
      "source": [
        "## Enter Your Project ID\n",
        "\n",
        "Enter your Project Id in the cell below. Then run the cell to make sure the Cloud SDK uses the right project for all the commands in this notebook."
      ]
    },
    {
      "cell_type": "code",
      "metadata": {
        "id": "GtIjHUhlJ7-W"
      },
      "source": [
        "MY_PROJECT = 'YOUR PROJECT ID'"
      ],
      "execution_count": null,
      "outputs": []
    },
    {
      "cell_type": "code",
      "metadata": {
        "id": "KjLd9x994wm3"
      },
      "source": [
        "import sys\n",
        "if 'google.colab' in sys.modules:\n",
        "  from google.colab import auth\n",
        "  auth.authenticate_user()"
      ],
      "execution_count": null,
      "outputs": []
    },
    {
      "cell_type": "markdown",
      "metadata": {
        "id": "l1YW2pgyegFP"
      },
      "source": [
        "## Getting started tracking parameters and metrics\n",
        "\n",
        "You can use the Model Builder SDK to track metrics and parameters for models trained locally. \n",
        "\n",
        "In the following example, you train a simple distributed neural network (DNN) model to predict automobile's miles per gallon (MPG) based on automobile information in the [auto-mpg dataset](https://www.kaggle.com/devanshbesain/exploration-and-analysis-auto-mpg)."
      ]
    },
    {
      "cell_type": "markdown",
      "metadata": {
        "id": "KPY41M9_AhZU"
      },
      "source": [
        "### Load and process the training dataset"
      ]
    },
    {
      "cell_type": "markdown",
      "metadata": {
        "id": "V2Fe3rOcUpD3"
      },
      "source": [
        "Import required libraries."
      ]
    },
    {
      "cell_type": "code",
      "metadata": {
        "id": "_UI6y6tbl2hy"
      },
      "source": [
        "import pathlib\n",
        "import numpy as np\n",
        "import pandas as pd\n",
        "from tensorflow.python.keras import layers, Sequential\n",
        "from tensorflow.python.keras.utils import data_utils\n"
      ],
      "execution_count": null,
      "outputs": []
    },
    {
      "cell_type": "markdown",
      "metadata": {
        "id": "bfMQSmRuUuX-"
      },
      "source": [
        "Download and process the dataset."
      ]
    },
    {
      "cell_type": "code",
      "metadata": {
        "id": "RiQuMv4bmpuV"
      },
      "source": [
        "def read_data(uri):\n",
        "    dataset_path = data_utils.get_file(\"auto-mpg.data\", uri)\n",
        "    column_names = ['MPG','Cylinders','Displacement','Horsepower','Weight',\n",
        "                    'Acceleration', 'Model Year', 'Origin']\n",
        "    raw_dataset = pd.read_csv(dataset_path, names=column_names, na_values = \"?\",\n",
        "                              comment='\\t', sep=\" \", skipinitialspace=True)\n",
        "    dataset = raw_dataset.dropna()\n",
        "    dataset['Origin'] = dataset['Origin'].map(\n",
        "        lambda x: {1: 'USA', 2: 'Europe', 3: 'Japan'}.get(x))\n",
        "    dataset = pd.get_dummies(dataset, prefix='', prefix_sep='')        \n",
        "    return dataset\n",
        "\n",
        "\n",
        "dataset = read_data(\"http://archive.ics.uci.edu/ml/machine-learning-databases/auto-mpg/auto-mpg.data\")"
      ],
      "execution_count": null,
      "outputs": []
    },
    {
      "cell_type": "markdown",
      "metadata": {
        "id": "Y06J7A7yU21t"
      },
      "source": [
        "Split dataset for training and testing."
      ]
    },
    {
      "cell_type": "code",
      "metadata": {
        "id": "p5JBCBKyH-NC"
      },
      "source": [
        "def train_test_split(dataset, split_frac=0.8, random_state=0):    \n",
        "    train_dataset = dataset.sample(frac=split_frac, random_state=random_state)\n",
        "    test_dataset = dataset.drop(train_dataset.index)\n",
        "    train_labels = train_dataset.pop('MPG')\n",
        "    test_labels = test_dataset.pop('MPG')\n",
        "    \n",
        "    return train_dataset, test_dataset, train_labels, test_labels\n",
        "\n",
        "train_dataset, test_dataset, train_labels, test_labels = train_test_split(dataset)"
      ],
      "execution_count": null,
      "outputs": []
    },
    {
      "cell_type": "markdown",
      "metadata": {
        "id": "gaNNTFPaU7KT"
      },
      "source": [
        "Normalize the features in the dataset for better model performance."
      ]
    },
    {
      "cell_type": "code",
      "metadata": {
        "id": "VGq5QCoyIEWJ"
      },
      "source": [
        "def normalize_dataset(train_dataset, test_dataset):\n",
        "    train_stats = train_dataset.describe()\n",
        "    train_stats = train_stats.transpose()\n",
        "    def norm(x):\n",
        "        return (x - train_stats['mean']) / train_stats['std']\n",
        "    normed_train_data = norm(train_dataset)\n",
        "    normed_test_data = norm(test_dataset)\n",
        "    \n",
        "    return normed_train_data, normed_test_data\n",
        "\n",
        "normed_train_data, normed_test_data = normalize_dataset(train_dataset,\n",
        "                                                        test_dataset)"
      ],
      "execution_count": null,
      "outputs": []
    },
    {
      "cell_type": "markdown",
      "metadata": {
        "id": "UBXUgxgqA_GB"
      },
      "source": [
        "### Define ML model and training function"
      ]
    },
    {
      "cell_type": "code",
      "metadata": {
        "id": "66odBYKrIN4q"
      },
      "source": [
        "def train(train_data, train_labels, num_units=64, activation='relu',\n",
        "          dropout_rate=0.0, validation_split = 0.2, epochs=1000):\n",
        "    \n",
        "    model = Sequential([\n",
        "        layers.Dense(num_units, activation=activation,\n",
        "                     input_shape=[len(train_dataset.keys())]),\n",
        "        layers.Dropout(rate=dropout_rate),\n",
        "        layers.Dense(num_units, activation=activation),\n",
        "        layers.Dense(1)\n",
        "    ])\n",
        "\n",
        "\n",
        "    model.compile(loss='mse',\n",
        "                optimizer='adam',\n",
        "                metrics=['mae', 'mse'])\n",
        "    print(model.summary())\n",
        "    \n",
        "    history = model.fit(\n",
        "      train_data, train_labels,\n",
        "      epochs=epochs, validation_split=validation_split)\n",
        "\n",
        "    return model, history"
      ],
      "execution_count": null,
      "outputs": []
    },
    {
      "cell_type": "markdown",
      "metadata": {
        "id": "O8XJZB3gR8eL"
      },
      "source": [
        "### Initialize the Model Builder SDK and create an Experiment\n",
        "\n",
        "Initialize the *client* for AI Platform (Unified) and create an experiment."
      ]
    },
    {
      "cell_type": "code",
      "metadata": {
        "id": "o_wnT10RJ7-W"
      },
      "source": [
        "from google.cloud import aiplatform\n",
        "\n",
        "aiplatform.init(project=MY_PROJECT, experiment=\"auto-mpg-experiment\")"
      ],
      "execution_count": null,
      "outputs": []
    },
    {
      "cell_type": "markdown",
      "metadata": {
        "id": "u-iTnzt3B6Z_"
      },
      "source": [
        "### Start several model training runs\n",
        "\n",
        "Training parameters and metrics are logged for each run."
      ]
    },
    {
      "cell_type": "code",
      "metadata": {
        "id": "i2wnpu8_7JfV"
      },
      "source": [
        "parameters = [\n",
        "             {'num_units':16, 'epochs':3, 'dropout_rate':0.1}, \n",
        "             {'num_units':16, 'epochs':10, 'dropout_rate':0.1}, \n",
        "             {'num_units':16, 'epochs':10, 'dropout_rate':0.2},\n",
        "             {'num_units':32, 'epochs':10, 'dropout_rate':0.1},\n",
        "             {'num_units':32, 'epochs':10, 'dropout_rate':0.2},\n",
        "            ]\n",
        "\n",
        "for i, params in enumerate(parameters):\n",
        "  aiplatform.start_run(run=f'auto-mpg-local-run-{i}')\n",
        "  aiplatform.log_params(params)\n",
        "  model, history = train(normed_train_data, train_labels, num_units=params['num_units'],\n",
        "                        activation='relu', epochs=params['epochs'], dropout_rate=params['dropout_rate'])\n",
        "  aiplatform.log_metrics({metric: values[-1]\n",
        "                            for metric, values in history.history.items()})\n",
        "  \n",
        "  loss, mae, mse = model.evaluate(normed_test_data, test_labels, verbose=2) \n",
        "  aiplatform.log_metrics({'eval_loss':loss, 'eval_mae':mae, 'eval_mse':mse})"
      ],
      "execution_count": null,
      "outputs": []
    },
    {
      "cell_type": "markdown",
      "metadata": {
        "id": "jZLrJZTfL7tE"
      },
      "source": [
        "### Extract parameters and metrics into a dataframe for analysis"
      ]
    },
    {
      "cell_type": "code",
      "metadata": {
        "id": "jbRf1WoH_vbY"
      },
      "source": [
        "experiment_df = aiplatform.get_experiment_df()\n",
        "experiment_df"
      ],
      "execution_count": null,
      "outputs": []
    },
    {
      "cell_type": "markdown",
      "metadata": {
        "id": "EYuYgqVCMKU1"
      },
      "source": [
        "### Visualizing an experiment's parameters and metrics"
      ]
    },
    {
      "cell_type": "code",
      "metadata": {
        "id": "r8orCj8iJuO1"
      },
      "source": [
        "import matplotlib.pyplot as plt\n",
        "plt.rcParams[\"figure.figsize\"] = [15, 5]\n",
        "\n",
        "ax = pd.plotting.parallel_coordinates(\n",
        "    experiment_df.reset_index(level=0),\n",
        "    'run_name', cols=['param.num_units', 'param.dropout_rate',\n",
        "                             'param.epochs', 'metric.loss',\n",
        "                             'metric.val_loss', 'metric.eval_loss'],\n",
        "    color=['blue', 'green', 'pink', 'red'],\n",
        "    )\n",
        "ax.set_yscale('symlog')\n",
        "ax.legend(bbox_to_anchor=(1.0, 0.5))"
      ],
      "execution_count": null,
      "outputs": []
    },
    {
      "cell_type": "markdown",
      "metadata": {
        "id": "WTHvPMweMlP1"
      },
      "source": [
        "## Visualizing experiments in Cloud Console"
      ]
    },
    {
      "cell_type": "markdown",
      "metadata": {
        "id": "F19_5lw0MqXv"
      },
      "source": [
        "Run the following to get the URL of AI Platform (Unified) Experiments for your project.\n"
      ]
    },
    {
      "cell_type": "code",
      "metadata": {
        "id": "GmN9vE9pqqzt"
      },
      "source": [
        "print(\"Prod UI:\")\n",
        "print(f'https://pantheon.corp.google.com/ai/platform/experiments/experiments?folder=&organizationId=&project={MY_PROJECT}')"
      ],
      "execution_count": null,
      "outputs": []
    }
  ]
}