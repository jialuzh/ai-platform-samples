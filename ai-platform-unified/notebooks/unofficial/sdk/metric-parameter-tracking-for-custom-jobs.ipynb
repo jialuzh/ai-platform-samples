{
  "cells": [
    {
      "cell_type": "code",
      "execution_count": null,
      "metadata": {
        "id": "Snm88Z0sROQB"
      },
      "outputs": [],
      "source": [
        "# Copyright 2021 Google LLC\n",
        "#\n",
        "# Licensed under the Apache License, Version 2.0 (the \"License\");\n",
        "# you may not use this file except in compliance with the License.\n",
        "# You may obtain a copy of the License at\n",
        "#\n",
        "#     https://www.apache.org/licenses/LICENSE-2.0\n",
        "#\n",
        "# Unless required by applicable law or agreed to in writing, software\n",
        "# distributed under the License is distributed on an \"AS IS\" BASIS,\n",
        "# WITHOUT WARRANTIES OR CONDITIONS OF ANY KIND, either express or implied.\n",
        "# See the License for the specific language governing permissions and\n",
        "# limitations under the License."
      ]
    },
    {
      "cell_type": "markdown",
      "metadata": {
        "id": "ThTHoy7DRSye"
      },
      "source": [
        "## Feedback or issues?\n",
        "\n",
        "Let us know if you have any [feedback or questions](https://forms.gle/hXDnv1T4WanMwTi79). If you provide an email address, we will follow up with you."
      ]
    },
    {
      "cell_type": "markdown",
      "metadata": {
        "id": "acg-u47CJ7-T"
      },
      "source": [
        "# Tracking and visualizing the parameters and metrics of custom training jobs using the Model Builder SDK\n",
        "\n",
        "To use this Jupyter notebook, copy the notebook to an AI Platform (Unified) Notebooks instance with Tensorflow installed and open it. You can run each step, or cell, and see its results. To run a cell, use Shift+Enter. Jupyter automatically displays the return value of the last line in each cell. For more information about running notebooks in AI Platform (Unified) Notebook, see the [AI Platform (Unified) Notebook guide](https://cloud.google.com/ai-platform-unified/docs/general/notebooks).\n",
        "\n",
        "\n",
        "This notebook demonstrates how to track metrics and parameters for AI Platform (Unified) custom training jobs, and how to perform detailed analysis using this data.\n",
        "\n",
        "\n",
        "\n",
        "Note: you might incur charges for training, prediction, storage or usage of other GCP products in connection with testing this SDK."
      ]
    },
    {
      "cell_type": "markdown",
      "metadata": {
        "id": "-VL5avdUJ7-V"
      },
      "source": [
        "## Install the Model Builder SDK\n",
        "\n",
        "Use the instructions in section to install the Model Builder SDK.\n",
        "\n",
        "After the SDK has been installed, the kernel is automatically restarted."
      ]
    },
    {
      "cell_type": "code",
      "execution_count": null,
      "metadata": {
        "id": "5-6l0OdRJ7-V"
      },
      "outputs": [],
      "source": [
        "%%capture\n",
        "!pip3 uninstall -y google-cloud-aiplatform\n",
        "!pip3 install --user git+https://github.com/googleapis/python-aiplatform.git@dev-test\n",
        "import IPython\n",
        "\n",
        "app = IPython.Application.instance()\n",
        "app.kernel.do_shutdown(True)"
      ]
    },
    {
      "cell_type": "markdown",
      "metadata": {
        "id": "amZxHeNzRhgN"
      },
      "source": [
        "## Enter Your Project and GCS Bucket\n",
        "\n",
        "Enter your Project Id in the cell below. Then run the cell to make sure the Cloud SDK uses the right project for all the commands in this notebook."
      ]
    },
    {
      "cell_type": "code",
      "execution_count": null,
      "metadata": {
        "id": "GtIjHUhlJ7-W"
      },
      "outputs": [],
      "source": [
        "MY_PROJECT = \"YOUR PROJECT ID\"  # Please change this to your own test project\n",
        "MY_STAGING_BUCKET = \"your-bucket-name\"  # bucket should be in same region as ucaip\n",
        "MY_EXPERIMENT = (\n",
        "    \"your-experiment-name\"  # Please change this to your desired experiment name\n",
        ")"
      ]
    },
    {
      "cell_type": "code",
      "execution_count": null,
      "metadata": {
        "id": "KjLd9x994wm3"
      },
      "outputs": [],
      "source": [
        "import sys\n",
        "\n",
        "if \"google.colab\" in sys.modules:\n",
        "    from google.colab import auth\n",
        "\n",
        "    auth.authenticate_user()"
      ]
    },
    {
      "cell_type": "markdown",
      "metadata": {
        "id": "O8XJZB3gR8eL"
      },
      "source": [
        "## Initialize the Model Builder SDK and set an _experiment_\n",
        "\n",
        "Initialize the *client* for AI Platform (Unified)."
      ]
    },
    {
      "cell_type": "code",
      "execution_count": null,
      "metadata": {
        "id": "Wrlk2B2nJ7-X"
      },
      "outputs": [],
      "source": [
        "from google.cloud import aiplatform\n",
        "\n",
        "aiplatform.init(\n",
        "    project=MY_PROJECT, experiment=MY_EXPERIMENT, staging_bucket=MY_STAGING_BUCKET\n",
        ")"
      ]
    },
    {
      "cell_type": "markdown",
      "metadata": {
        "id": "6PlilQPFeS_h"
      },
      "source": [
        "## Tracking parameters and metrics in AI Platform (Unified) custom training jobs"
      ]
    },
    {
      "cell_type": "markdown",
      "metadata": {
        "id": "9nokDKBAxwV8"
      },
      "source": [
        "This example uses the Abalone Dataset. For more information about this dataset please visit: https://archive.ics.uci.edu/ml/datasets/abalone"
      ]
    },
    {
      "cell_type": "code",
      "execution_count": null,
      "metadata": {
        "id": "V_T10yTTqcS_"
      },
      "outputs": [],
      "source": [
        "!wget https://storage.googleapis.com/download.tensorflow.org/data/abalone_train.csv\n",
        "!gsutil cp abalone_train.csv {MY_STAGING_BUCKET}/data/\n",
        "\n",
        "gcs_csv_path = f\"{MY_STAGING_BUCKET}/data/abalone_train.csv\""
      ]
    },
    {
      "cell_type": "markdown",
      "metadata": {
        "id": "35QVNhACqcTJ"
      },
      "source": [
        "### Create a managed tabular dataset from a CSV\n",
        "\n",
        "A Managed dataset can be used to create an AutoML model or a custom model. "
      ]
    },
    {
      "cell_type": "code",
      "execution_count": null,
      "metadata": {
        "id": "4OfCqaYRqcTJ"
      },
      "outputs": [],
      "source": [
        "ds = aiplatform.TabularDataset.create(display_name=\"abalone\", gcs_source=[gcs_csv_path])\n",
        "\n",
        "ds.resource_name"
      ]
    },
    {
      "cell_type": "markdown",
      "metadata": {
        "id": "VcEOYYolqcTN"
      },
      "source": [
        "### Write the training script\n",
        "\n",
        "Run the following cell to create the training script that is used in the sample custom training job."
      ]
    },
    {
      "cell_type": "code",
      "execution_count": null,
      "metadata": {
        "id": "OauJqJmJqcTO"
      },
      "outputs": [],
      "source": [
        "%%writefile training_script.py\n",
        "\n",
        "import pandas as pd\n",
        "import argparse\n",
        "import os\n",
        "import tensorflow as tf\n",
        "from tensorflow import keras\n",
        "from tensorflow.keras import layers\n",
        "\n",
        "parser = argparse.ArgumentParser()\n",
        "parser.add_argument('--epochs', dest='epochs',\n",
        "                    default=10, type=int,\n",
        "                    help='Number of epochs.')\n",
        "parser.add_argument('--num_units', dest='num_units',\n",
        "                    default=64, type=int,\n",
        "                    help='Number of unit for first layer.')\n",
        "args = parser.parse_args()\n",
        "# uncomment and bump up replica_count for distributed training\n",
        "# strategy = tf.distribute.experimental.MultiWorkerMirroredStrategy()\n",
        "# tf.distribute.experimental_set_strategy(strategy)\n",
        "\n",
        "col_names = [\"Length\", \"Diameter\", \"Height\", \"Whole weight\", \"Shucked weight\", \"Viscera weight\", \"Shell weight\", \"Age\"]\n",
        "target = \"Age\"\n",
        "\n",
        "def aip_data_to_dataframe(wild_card_path):\n",
        "    return pd.concat([pd.read_csv(fp.numpy().decode(), names=col_names)\n",
        "                      for fp in tf.data.Dataset.list_files([wild_card_path])])\n",
        "\n",
        "def get_features_and_labels(df):\n",
        "    return df.drop(target, axis=1).values, df[target].values\n",
        "\n",
        "def data_prep(wild_card_path):\n",
        "    return get_features_and_labels(aip_data_to_dataframe(wild_card_path))\n",
        "\n",
        "\n",
        "model = tf.keras.Sequential([layers.Dense(args.num_units), layers.Dense(1)])\n",
        "model.compile(loss='mse', optimizer='adam')\n",
        "\n",
        "model.fit(*data_prep(os.environ[\"AIP_TRAINING_DATA_URI\"]),\n",
        "          epochs=args.epochs ,\n",
        "          validation_data=data_prep(os.environ[\"AIP_VALIDATION_DATA_URI\"]))\n",
        "print(model.evaluate(*data_prep(os.environ[\"AIP_TEST_DATA_URI\"])))\n",
        "\n",
        "# save as AI Platform Managed model\n",
        "tf.saved_model.save(model, os.environ[\"AIP_MODEL_DIR\"])"
      ]
    },
    {
      "cell_type": "markdown",
      "metadata": {
        "id": "Yp2clkOJSDhR"
      },
      "source": [
        "### Launch a custom training job and track its trainig parameters on AI Platform (Unified) ML Metadata"
      ]
    },
    {
      "cell_type": "code",
      "execution_count": null,
      "metadata": {
        "id": "btb6d48lqcTT"
      },
      "outputs": [],
      "source": [
        "job = aiplatform.CustomTrainingJob(\n",
        "    display_name=\"train-abalone-dist-1-replica\",\n",
        "    script_path=\"training_script.py\",\n",
        "    container_uri=\"gcr.io/cloud-aiplatform/training/tf-cpu.2-2:latest\",\n",
        "    requirements=[\"gcsfs==0.7.1\"],\n",
        "    model_serving_container_image_uri=\"gcr.io/cloud-aiplatform/prediction/tf2-cpu.2-2:latest\",\n",
        ")"
      ]
    },
    {
      "cell_type": "markdown",
      "metadata": {
        "id": "k_QorXXztzPH"
      },
      "source": [
        "Start a new experiment run to track training parameters and start the training job. Note that this operation will take around 10 mins."
      ]
    },
    {
      "cell_type": "code",
      "execution_count": null,
      "metadata": {
        "id": "oVTORjQpJ7-Y"
      },
      "outputs": [],
      "source": [
        "aiplatform.start_run(\"custom-training-run-1\")  # Change this to your desired run name\n",
        "parameters = {\"epochs\": 10, \"num_units\": 64}\n",
        "aiplatform.log_params(parameters)\n",
        "\n",
        "model = job.run(\n",
        "    ds,\n",
        "    replica_count=1,\n",
        "    model_display_name=\"abalone-model\",\n",
        "    args=[f\"--epochs={parameters['epochs']}\", f\"--num_units={parameters['num_units']}\"],\n",
        ")"
      ]
    },
    {
      "cell_type": "markdown",
      "metadata": {
        "id": "5vhDsMJNqcTW"
      },
      "source": [
        "### Deploy Model and calculate prediction metrics"
      ]
    },
    {
      "cell_type": "markdown",
      "metadata": {
        "id": "O-uCOL3Naap4"
      },
      "source": [
        "Deploy model to Google Cloud. This operation will take 10-20 mins."
      ]
    },
    {
      "cell_type": "code",
      "execution_count": null,
      "metadata": {
        "id": "Y9GH72wWqcTX"
      },
      "outputs": [],
      "source": [
        "endpoint = model.deploy(machine_type=\"n1-standard-4\")"
      ]
    },
    {
      "cell_type": "markdown",
      "metadata": {
        "id": "JY-5skFhasWs"
      },
      "source": [
        "Once model is deployed, perform online prediction using the `abalone_test` dataset and calculate prediction metrics."
      ]
    },
    {
      "cell_type": "markdown",
      "metadata": {
        "id": "saw50bqwa-dR"
      },
      "source": [
        "Prepare the prediction dataset."
      ]
    },
    {
      "cell_type": "code",
      "execution_count": null,
      "metadata": {
        "id": "ABZQmqsWISQv"
      },
      "outputs": [],
      "source": [
        "import pandas as pd\n",
        "from tensorflow.python.keras.utils import data_utils\n",
        "\n",
        "\n",
        "def read_data(uri):\n",
        "    dataset_path = data_utils.get_file(\"auto-mpg.data\", uri)\n",
        "    col_names = [\n",
        "        \"Length\",\n",
        "        \"Diameter\",\n",
        "        \"Height\",\n",
        "        \"Whole weight\",\n",
        "        \"Shucked weight\",\n",
        "        \"Viscera weight\",\n",
        "        \"Shell weight\",\n",
        "        \"Age\",\n",
        "    ]\n",
        "    dataset = pd.read_csv(\n",
        "        dataset_path,\n",
        "        names=col_names,\n",
        "        na_values=\"?\",\n",
        "        comment=\"\\t\",\n",
        "        sep=\",\",\n",
        "        skipinitialspace=True,\n",
        "    )\n",
        "    return dataset\n",
        "\n",
        "\n",
        "def get_features_and_labels(df):\n",
        "    target = \"Age\"\n",
        "    return df.drop(target, axis=1).values, df[target].values\n",
        "\n",
        "\n",
        "test_dataset, test_labels = get_features_and_labels(\n",
        "    read_data(\n",
        "        \"https://storage.googleapis.com/download.tensorflow.org/data/abalone_test.csv\"\n",
        "    )\n",
        ")"
      ]
    },
    {
      "cell_type": "markdown",
      "metadata": {
        "id": "_HphZ38obJeB"
      },
      "source": [
        "Perform online prediction."
      ]
    },
    {
      "cell_type": "code",
      "execution_count": null,
      "metadata": {
        "id": "eXD-OvsrKmCt"
      },
      "outputs": [],
      "source": [
        "prediction = endpoint.predict(test_dataset.tolist())\n",
        "prediction"
      ]
    },
    {
      "cell_type": "markdown",
      "metadata": {
        "id": "TDKiv_O7bNwE"
      },
      "source": [
        "Calculate and track prediction evaluation metrics."
      ]
    },
    {
      "cell_type": "code",
      "execution_count": null,
      "metadata": {
        "id": "cj0fHucbKopn"
      },
      "outputs": [],
      "source": [
        "from sklearn.metrics import mean_absolute_error, mean_squared_error\n",
        "\n",
        "mse = mean_squared_error(test_labels, prediction.predictions)\n",
        "mae = mean_absolute_error(test_labels, prediction.predictions)\n",
        "\n",
        "aiplatform.log_metrics({\"mse\": mse, \"mae\": mae})"
      ]
    },
    {
      "cell_type": "markdown",
      "metadata": {
        "id": "CCGmesdIbbHf"
      },
      "source": [
        "### Extract all parameters and metrics created during this experiment."
      ]
    },
    {
      "cell_type": "code",
      "execution_count": null,
      "metadata": {
        "id": "KlcEBou-Pl4Z"
      },
      "outputs": [],
      "source": [
        "aiplatform.get_experiment_df()"
      ]
    },
    {
      "cell_type": "markdown",
      "metadata": {
        "id": "WTHvPMweMlP1"
      },
      "source": [
        "### View data in the Cloud Console"
      ]
    },
    {
      "cell_type": "markdown",
      "metadata": {
        "id": "F19_5lw0MqXv"
      },
      "source": [
        "Parameters and metrics can also be viewed in the Cloud Console. \n"
      ]
    },
    {
      "cell_type": "code",
      "execution_count": null,
      "metadata": {
        "id": "GmN9vE9pqqzt"
      },
      "outputs": [],
      "source": [
        "print(\"AI Platform (Unified) Experiments:\")\n",
        "print(\n",
        "    f\"https://console.cloud.google.com/ai/platform/experiments/experiments?folder=&organizationId=&project={MY_PROJECT}\"\n",
        ")"
      ]
    }
  ],
  "metadata": {
    "colab": {
      "collapsed_sections": [],
      "name": "metric-parameter-tracking-for-custom-jobs.ipynb",
      "toc_visible": true
    },
    "kernelspec": {
      "display_name": "Python 3",
      "name": "python3"
    }
  },
  "nbformat": 4,
  "nbformat_minor": 0
}
